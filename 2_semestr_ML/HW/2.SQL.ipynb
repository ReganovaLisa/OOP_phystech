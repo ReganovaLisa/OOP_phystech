{
 "cells": [
  {
   "cell_type": "markdown",
   "metadata": {},
   "source": [
    "# Домашняя работа №2 (Курс \"Advanced Python\", 2 семестр)\n",
    "## ФИО: Реганова Е.В.\n",
    "11 вариант\n",
    "\n",
    "\n"
   ]
  },
  {
   "cell_type": "markdown",
   "metadata": {},
   "source": [
    "**Тема:** SQL  \n",
    "**Выдана:** 18 марта 2021  \n",
    "**Мягкий дедлайн:** 25 марта 2021  \n",
    "**Жесткий дедлайн:** 1 апреля 2021  "
   ]
  },
  {
   "cell_type": "markdown",
   "metadata": {},
   "source": [
    "**Правила:**\n",
    "Результат выполнения задания - отчет в формате Jupyter Notebook с кодом и выводами. В ходе выполнения задания требуется реализовать все необходимые алгоритмы, провести эксперименты и ответить на поставленные вопросы. Дополнительные выводы приветствуются. Чем меньше кода и больше комментариев - тем лучше.\n",
    "\n",
    "Все ячейки должны быть \"выполненными\", при этом результат должен воспроизвдиться при проверке.\n",
    "\n",
    "Задание выполняется самостоятельно. **Если вы нашли в Интернете какой-то код, который собираетесь заимствовать, обязательно укажите это в задании.** Если вы советовались с товарищем и/или позаимствовали его решение, обязательно укажите об этом в отчете. Нет ничего плохого в том, что вы пытаетесь разобраться и помогаете друг другу; плохо - когда вы скрываете это и выдаете чужие заслуги за свои. При обнаружении списывания ВСЕМ студентам, имеющим одинаковые списанные решения будет выставлен ОТРИЦАТЕЛЬНЫЙ балл (т.е если задача стоит 4 балла, вы получите не 0, а -4), \"оригинал\" искаться не будет\n",
    "\n",
    "Задание, сданное после жесткого дедлайна, не принимается."
   ]
  },
  {
   "cell_type": "markdown",
   "metadata": {},
   "source": [
    "## Задание: selectы sql (13 баллов)\n",
    "Вам предстоит написать несколько Sql запросов к имеющейся базе данных, описывающую King Corporation. Структура базы данных приведена ниже:\n",
    "![Структура базы данных](scheme.gif \"Структура базы данных\")\n",
    "\n",
    "Также,  [здесь](./Таблицы.docx) вы можете посмотреть типы данных столбцов, их смысл, а также sql запросы, которыми можно инициализировать БД такой структуры.\n",
    "\n",
    "1. Инициализируйте и заполните базу данных, выполнив скрипт [init.sql](./init.sql) **1 балл**  \n",
    "\n",
    "2. Вставьте в параметр ниже номер вашего варианта и исполните следующие ячейки. Вы получите условия задач вашего варианта. **Каждая задача стоит 4 балла.** Задачи необходимо решить прямо из python при помощи библиотеки sqllite, но если у вас возникли проблемы с использованием sql из python, вы можете просто приложить работающий sql запрос, он будет оценен максимум в 3 балла"
   ]
  },
  {
   "cell_type": "code",
   "execution_count": 1,
   "metadata": {},
   "outputs": [],
   "source": [
    "MY_VARIANT = 11 #измените этот параметр на номер своего варианта"
   ]
  },
  {
   "cell_type": "code",
   "execution_count": 2,
   "metadata": {},
   "outputs": [],
   "source": [
    "#Не меняйте эти параметры\n",
    "TASKS_TO_DO = 3\n",
    "TOTAL_TASKS = 4"
   ]
  },
  {
   "cell_type": "code",
   "execution_count": 2,
   "metadata": {},
   "outputs": [],
   "source": [
    "def get_tasks(variant):\n",
    "    try:\n",
    "        with open(\"tasks.txt\", encoding=\"utf8\") as tasks:\n",
    "            for i in range(variant):\n",
    "                for j in range(TOTAL_TASKS + 1):\n",
    "                    tasks.readline()\n",
    "            print(f\"Задачи варианта {tasks.readline()}\")\n",
    "            for i in range(TASKS_TO_DO):\n",
    "                print(i+1, tasks.readline(), end=\"\")\n",
    "    except:\n",
    "        print(\"Что-то пошло не так. Убедитесь, что в текущей рабочей папке\"\n",
    "              \" лежит файл tasks.txt и что вы задаете корректный номер варианта\")"
   ]
  },
  {
   "cell_type": "code",
   "execution_count": 5,
   "metadata": {},
   "outputs": [
    {
     "name": "stdout",
     "output_type": "stream",
     "text": [
      "Задачи варианта 11\n",
      "\n",
      "1 Выбрать фамилии и зарплаты тех продавцов (должность - 'SALESPERSON'), которые числятся не в отделах продаж ('SALES')\n",
      "2 Определить для каждого месяца рекордный объем ежедневных продаж.\n",
      "3 Выбрать название и маскимальную зарплату+комиссионные по отделу для тех отделов, в которых максимальная зарплата+комиссионные в 1.5 раза больше средней зарплаты по другим отделам фирмы.\n"
     ]
    }
   ],
   "source": [
    "#выполнение этой функции выведет условия ваших задач. Убедитесь, что вы подгрузили задачи вашего варианта\n",
    "get_tasks(MY_VARIANT)"
   ]
  },
  {
   "cell_type": "markdown",
   "metadata": {},
   "source": [
    "### Полезные материалы: \n",
    "1. В качестве справки рекомендую читать официальную документацию к Sql от  Microsoft, а также https://professorweb.ru/my/sql-server/2012/level1/ (пункты 2.9, 2.10 будут вам особенно полезны)\n",
    "2. Также, множество примеров приведены [в файле](./SQL_examples.html). \n",
    "\n",
    "Приступайте к написанию sql запросов."
   ]
  },
  {
   "cell_type": "code",
   "execution_count": 17,
   "metadata": {},
   "outputs": [
    {
     "ename": "OperationalError",
     "evalue": "table EMPLOYEE already exists",
     "output_type": "error",
     "traceback": [
      "\u001b[1;31m---------------------------------------------------------------------------\u001b[0m",
      "\u001b[1;31mOperationalError\u001b[0m                          Traceback (most recent call last)",
      "\u001b[1;32m<ipython-input-17-ae7cce03861b>\u001b[0m in \u001b[0;36m<module>\u001b[1;34m\u001b[0m\n\u001b[0;32m      6\u001b[0m \u001b[0mcon\u001b[0m \u001b[1;33m=\u001b[0m \u001b[0msqlite3\u001b[0m\u001b[1;33m.\u001b[0m\u001b[0mconnect\u001b[0m\u001b[1;33m(\u001b[0m\u001b[1;34m'init.db'\u001b[0m\u001b[1;33m)\u001b[0m\u001b[1;33m\u001b[0m\u001b[1;33m\u001b[0m\u001b[0m\n\u001b[0;32m      7\u001b[0m \u001b[0mc\u001b[0m \u001b[1;33m=\u001b[0m \u001b[0mcon\u001b[0m\u001b[1;33m.\u001b[0m\u001b[0mcursor\u001b[0m\u001b[1;33m(\u001b[0m\u001b[1;33m)\u001b[0m\u001b[1;33m\u001b[0m\u001b[1;33m\u001b[0m\u001b[0m\n\u001b[1;32m----> 8\u001b[1;33m \u001b[0mc\u001b[0m\u001b[1;33m.\u001b[0m\u001b[0mexecutescript\u001b[0m\u001b[1;33m(\u001b[0m\u001b[0msql_script\u001b[0m\u001b[1;33m)\u001b[0m\u001b[1;33m\u001b[0m\u001b[1;33m\u001b[0m\u001b[0m\n\u001b[0m",
      "\u001b[1;31mOperationalError\u001b[0m: table EMPLOYEE already exists"
     ]
    }
   ],
   "source": [
    "#инициализация базы данных скриптом\n",
    "import sqlite3\n",
    "with open('init.sql', 'r') as sql_file:\n",
    "    sql_script = sql_file.read()\n",
    "    \n",
    "con = sqlite3.connect('init.db')\n",
    "c = con.cursor()\n",
    "c.executescript(sql_script)"
   ]
  },
  {
   "cell_type": "markdown",
   "metadata": {},
   "source": [
    "## Задание1\n",
    "Выбрать фамилии и зарплаты тех продавцов (должность - 'SALESPERSON'), которые числятся не в отделах продаж ('SALES')"
   ]
  },
  {
   "cell_type": "code",
   "execution_count": 27,
   "metadata": {},
   "outputs": [],
   "source": [
    "\n",
    "query = ''' SELECT employee.Last_Name, employee.Salary \n",
    "                        FROM employee,job, department \n",
    "                        WHERE employee.job_id = job.job_id AND employee.department_id = department.department_id\n",
    "                        AND job.Function = 'SALESPERSON'\n",
    "                        AND NOT department.name = 'SALES' '''\n",
    "                       \n",
    "c.execute(query)\n",
    "rows = c.fetchall()\n",
    "for row in rows:\n",
    "    print(row)"
   ]
  },
  {
   "cell_type": "markdown",
   "metadata": {},
   "source": [
    "## ТАКИХ НЕТ!!!! \n",
    "Ну так-то странно, если продавец не числится в отделе прожаж"
   ]
  },
  {
   "cell_type": "markdown",
   "metadata": {},
   "source": [
    "## Задание 2\n",
    " Определить для каждого месяца рекордный объем ежедневных продаж."
   ]
  },
  {
   "cell_type": "code",
   "execution_count": 51,
   "metadata": {},
   "outputs": [
    {
     "name": "stdout",
     "output_type": "stream",
     "text": [
      "('01', 5860)\n",
      "('02', 46370)\n",
      "('03', 8540)\n",
      "('04', 3026.5)\n",
      "('05', 2135.6)\n",
      "('06', 4900)\n",
      "('07', 8377.4)\n",
      "('08', 2409)\n",
      "('09', 8400)\n",
      "('10', 3887.5)\n",
      "('11', 2275.6)\n",
      "('12', 1620)\n"
     ]
    }
   ],
   "source": [
    "query3 = '''\n",
    "            WITH dates AS(\n",
    "            SELECT order_date as date, SUM(total) AS vol\n",
    "            FROM sales_order\n",
    "            GROUP BY order_date\n",
    "            )\n",
    "            SELECT SUBSTR(date,4,2) as month, MAX(vol) as max\n",
    "            FROM dates\n",
    "            GROUP BY month\n",
    "'''\n",
    "c.execute(query3)\n",
    "rows = c.fetchall()\n",
    "for row in rows:\n",
    "    print(row)"
   ]
  },
  {
   "cell_type": "markdown",
   "metadata": {},
   "source": [
    "## Задание 3\n",
    "\n",
    "Выбрать название и маскимальную зарплату+комиссионные по отделу для тех отделов, в которых максимальная зарплата+комиссионные в 1.5 раза больше средней зарплаты по другим отделам фирмы."
   ]
  },
  {
   "cell_type": "code",
   "execution_count": null,
   "metadata": {},
   "outputs": [],
   "source": []
  }
 ],
 "metadata": {
  "kernelspec": {
   "display_name": "Python 3",
   "language": "python",
   "name": "python3"
  },
  "language_info": {
   "codemirror_mode": {
    "name": "ipython",
    "version": 3
   },
   "file_extension": ".py",
   "mimetype": "text/x-python",
   "name": "python",
   "nbconvert_exporter": "python",
   "pygments_lexer": "ipython3",
   "version": "3.7.4"
  }
 },
 "nbformat": 4,
 "nbformat_minor": 2
}
