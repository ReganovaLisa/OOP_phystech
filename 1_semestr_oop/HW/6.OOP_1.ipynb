{
 "cells": [
  {
   "cell_type": "markdown",
   "metadata": {},
   "source": [
    "# Домашняя работа №5 (Курс \"Advanced Python\")\n",
    "## ФИО:"
   ]
  },
  {
   "cell_type": "markdown",
   "metadata": {},
   "source": [
    "**Тема:** Объектно ориентированное программирование 1  \n",
    "**Выдана:** 9 октября  \n",
    "**Мягкий дедлайн:** 18 октября  \n",
    "**Жесткий дедлайн:** 25 октября  "
   ]
  },
  {
   "cell_type": "markdown",
   "metadata": {},
   "source": [
    "**Правила:**\n",
    "Результат выполнения задания - отчет в формате Jupyter Notebook с кодом и выводами. В ходе выполнения задания требуется реализовать все необходимые алгоритмы, провести эксперименты и ответить на поставленные вопросы. Дополнительные выводы приветствуются. Чем меньше кода и больше комментариев - тем лучше.\n",
    "\n",
    "Все ячейки должны быть \"выполненными\", при этом результат должен воспроизвдиться при проверке.\n",
    "\n",
    "Задание выполняется самостоятельно. **Если вы нашли в Интернете какой-то код, который собираетесь заимствовать, обязательно укажите это в задании.** Если вы советовались с товарищем и/или позаимствовали его решение, обязательно укажите об этом в отчете. Нет ничего плохого в том, что вы пытаетесь разобраться и помогаете друг другу; плохо - когда вы скрываете это и выдаете чужие заслуги за свои. При обнаружении списывания ВСЕМ студентам, имеющим одинаковые списанные решения будет выставлен ОТРИЦАТЕЛЬНЫЙ балл (т.е если задача стоит 4 балла, вы получите не 0, а -4), \"оригинал\" искаться не будет\n",
    "\n",
    "Задание, сданное после жесткого дедлайна, не принимается."
   ]
  },
  {
   "cell_type": "markdown",
   "metadata": {},
   "source": [
    "### Задача 1: Комплексное число (2 балла):\n",
    "Реализуйте свой класс Complex для комплексных чисел, аналогично встроенной реализации complex:\n",
    "1. Добавьте конструктор класса\n",
    "2. Реализуйте операции проверки на равенство, сложения, вычитания, произведения и деления комплексных чисел (__eq__, __add__, __sub__, __mul__, __truediv__)\n",
    "3. Реализуйте операцию модуля (__abs__, вызываемую как |c|)\n",
    "4. Оба класса должны давать осмысленный вывод как при print, так и просто при вызове в ячейке"
   ]
  },
  {
   "cell_type": "code",
   "execution_count": 54,
   "metadata": {},
   "outputs": [
    {
     "name": "stdout",
     "output_type": "stream",
     "text": [
      "7+9i\n",
      "-1-1i\n",
      "-8+31i\n",
      "0.7804878048780488+0.024390243902439025i\n",
      "False\n",
      "True\n",
      "5.0\n"
     ]
    }
   ],
   "source": [
    "\n",
    "class Complex(object):\n",
    "\n",
    "    def __init__(self, a, b):\n",
    "        \n",
    "        self.re = a\n",
    "        self.im = b\n",
    "\n",
    "    def __str__(self):\n",
    "        if self.re != 0 and self.im != 0:\n",
    "            if self.im > 0:\n",
    "                res = str(self.re) + '+'+ str(self.im) + 'i'\n",
    "                \n",
    "            else:\n",
    "                res = str(self.re) +  str(self.im) + 'i'\n",
    "                \n",
    "        elif self.im != 0:\n",
    "            res = str(self.im) + 'i'\n",
    "        else:\n",
    "            res =  str(self.re)\n",
    "        return res         # выводит в человеческом виде  \n",
    "    def __eq__(self,other):\n",
    "        \n",
    "        return(self.re == other.re and self.im == other.im)\n",
    "\n",
    "    def __add__(self, rhs):\n",
    "        \n",
    "        return Complex(self.re + rhs.re, self.im + rhs.im)\n",
    "    \n",
    "    def __sub__(self, rhs):\n",
    "        \n",
    "        return Complex(self.re - rhs.re, self.im - rhs.im)\n",
    "    \n",
    "    def __mul__(self, rhs):\n",
    "        \n",
    "        return(Complex((self.re*rhs.re - self.im*rhs.im) , (self.im*rhs.re + self.re*rhs.im)))\n",
    "    \n",
    "    def __truediv__(self,rhs):\n",
    "        return(Complex((self.re*rhs.re + self.im*rhs.im)/(rhs.im**2 + rhs.re**2) , (self.im*rhs.re - self.re*rhs.im)/(rhs.im**2 + rhs.re**2)))\n",
    "\n",
    "    def __abs__(self):\n",
    "        \n",
    "        return (self.re**2 + self.im**2)**0.5\n",
    "\n",
    "    \n",
    "        \n",
    "a = Complex(3,4)\n",
    "b = Complex(4,5) \n",
    "d = Complex(4,5)\n",
    "c = a + b\n",
    "print(c)\n",
    "print(a-b)\n",
    "print(a*b)\n",
    "print(a / b)\n",
    "print(a==b)\n",
    "print(b==d)\n",
    "print(abs(a))\n",
    "                                                                                                                               \n",
    "                     "
   ]
  },
  {
   "cell_type": "markdown",
   "metadata": {},
   "source": [
    "### Задача 2: Буффер (2 балла)\n",
    "Вам на вход приходит последовательность целых чисел. Вам надо обрабатывать ее следующим образом: выводить на экран сумму первых пяти чисел этой последовательности, затем следующих 5 итд\n",
    "\n",
    "Но последовательность не дается вам сразу целиком. С течением времени к вам поступают её последовательные части. Например, сначала первые три элемента, потом следующие шесть, потом следующие два и т. д.\n",
    "\n",
    "Реализуйте класс Buffer, который будет накапливать в себе элементы последовательности и выводить сумму пятерок последовательных элементов по мере их накопления.\n",
    "\n",
    "Одним из требований к классу является то, что он не должен хранить в себе больше элементов, чем ему действительно необходимо, т. е. он не должен хранить элементы, которые уже вошли в пятерку, для которой была выведена сумма.\n",
    "\n",
    "Класс должен иметь следующий вид\n",
    "```python\n",
    "class Buffer:\n",
    "    def __init__(self):\n",
    "        # конструктор без аргументов\n",
    "    \n",
    "    def add(self, *a):\n",
    "        # добавить следующую часть последовательности\n",
    "\n",
    "    def get_current_part(self):\n",
    "        # вернуть сохраненные в текущий момент элементы последовательности в порядке, в котором они были     \n",
    "        # добавлены\n",
    "```"
   ]
  },
  {
   "cell_type": "code",
   "execution_count": 59,
   "metadata": {},
   "outputs": [
    {
     "name": "stdout",
     "output_type": "stream",
     "text": [
      "[1, 2, 3]\n",
      "15\n",
      "[6]\n",
      "40\n",
      "[]\n",
      "5\n",
      "5\n",
      "[1]\n"
     ]
    },
    {
     "data": {
      "text/plain": [
       "[1]"
      ]
     },
     "execution_count": 59,
     "metadata": {},
     "output_type": "execute_result"
    }
   ],
   "source": [
    "class Buffer:\n",
    "    def __init__(self):\n",
    "        self.arr = []\n",
    "\n",
    "\n",
    "    def add(self, *a):\n",
    "        self.arr.extend(a)\n",
    "        while len(self.arr) >= 5:\n",
    "            print(sum(self.arr[:5]))\n",
    "            del self.arr[0:5]\n",
    "\n",
    "    def get_current_part(self):\n",
    "        print(self.arr)\n",
    "        return self.arr\n",
    "#https://ru.stackoverflow.com/questions/605957/%d0%9a%d0%b0%d0%ba-%d1%81%d0%b4%d0%b5%d0%bb%d0%b0%d1%82%d1%8c-%d1%87%d1%82%d0%be%d0%b1%d1%8b-%d0%ba%d0%be%d0%b4-%d0%bf%d1%80%d0%be%d0%b4%d0%be%d0%bb%d0%b6%d0%b0%d0%bb-%d0%b2%d1%8b%d0%bf%d0%be%d0%bb%d0%bd%d1%8f%d1%82%d1%8c%d1%81%d1%8f    \n",
    "buf = Buffer()\n",
    "buf.add(1, 2, 3)\n",
    "buf.get_current_part() \n",
    "buf.add(4, 5, 6)\n",
    "buf.get_current_part() \n",
    "buf.add(7, 8, 9, 10) \n",
    "buf.get_current_part() \n",
    "buf.add(1, 1, 1, 1, 1, 1, 1, 1, 1, 1, 1) \n",
    "buf.get_current_part() "
   ]
  },
  {
   "cell_type": "markdown",
   "metadata": {},
   "source": [
    "### Задача 3: PositiveList (2 балла)\n",
    "Реализуйте класс PositiveList, отнаследовав его от класса list, для хранения положительных целых чисел.\n",
    "Также реализуйте новое исключение NonPositiveError.\n",
    "\n",
    "В классе PositiveList переопределите метод append(self, x) таким образом, чтобы при попытке добавить неположительное целое число бросалось исключение NonPositiveError и число не добавлялось, а при попытке добавить положительное целое число, число добавлялось бы как в стандартный list.\n",
    "\n",
    "В данной задаче гарантируется, что в качестве аргумента x метода append всегда будет передаваться целое число."
   ]
  },
  {
   "cell_type": "code",
   "execution_count": 61,
   "metadata": {},
   "outputs": [],
   "source": [
    "class NonPositiveError(Exception):\n",
    "    pass\n",
    "\n",
    "class PositiveList(list):\n",
    "     def append(self, x):\n",
    "        if x > 0:\n",
    "            super(PositiveList, self).append(x) #обращаемся к родительскому классу\n",
    "        else:\n",
    "            raise NonPositiveError\n",
    "#https://github.com/mxmaslin/stepik/blob/master/Python%20-%20%D0%BE%D1%81%D0%BD%D0%BE%D0%B2%D1%8B%20%D0%B8%20%D0%BF%D1%80%D0%B8%D0%BC%D0%B5%D0%BD%D0%B5%D0%BD%D0%B8%D0%B5/2.1%20%D0%9E%D1%88%D0%B8%D0%B1%D0%BA%D0%B8%20%D0%B8%20%D0%B8%D1%81%D0%BA%D0%BB%D1%8E%D1%87%D0%B5%D0%BD%D0%B8%D1%8F%209.md\n",
    "\n",
    "    "
   ]
  },
  {
   "cell_type": "markdown",
   "metadata": {},
   "source": [
    "### Задача 4: Стек (2 балла)\n",
    "Реализуйте структуру данных, представляющую собой расширенную структуру стек. Необходимо поддерживать добавление элемента на вершину стека, удаление с вершины стека, и необходимо поддерживать операции сложения на стеке, вычитания на стеке, умножения на стеке и целочисленного деления на стеке. Также переопределите сложение стеков.\n",
    "\n",
    "Операция сложения на стеке определяется следующим образом. Со стека снимается верхний элемент (top1), затем снимается следующий верхний элемент (top2), и затем как результат операции сложения на вершину стека кладется элемент, равный top1 + top2.\n",
    "\n",
    "Аналогичным образом определяются операции вычитания (top1 - top2), умножения (top1 * top2) и целочисленного деления (top1 // top2).\n",
    "\n",
    "Сложение стеков: при сложении двух стеков в результирующем стеке лежат элементы этих двух стеков в чередующемся порядке, начиная со дна, с первого стека. Если в каком-то из стеков элементов больше, чем во втором - результат кладется сверху подряд без чередований (см пример ниже)\n",
    "\n",
    "Реализуйте эту структуру данных как класс ExtendedStack, отнаследовав его от стандартного класса list.\n",
    "\n",
    "![Сложение стеков](Сложение стеков.jpg \"Сложение стеков\")"
   ]
  },
  {
   "cell_type": "code",
   "execution_count": 63,
   "metadata": {},
   "outputs": [],
   "source": [
    "class ExtendedStack(list):\n",
    "    def sum(self):\n",
    "        op1, op2 = self.pop(), self.pop()\n",
    "        self.append(op1 + op2)\n",
    "\n",
    "    def sub(self):\n",
    "        op1, op2 = self.pop(), self.pop()\n",
    "        self.append(op1 - op2)\n",
    "\n",
    "    def mul(self):\n",
    "        op1, op2 = self.pop(), self.pop()\n",
    "        self.append(op1 * op2)\n",
    "\n",
    "    def div(self):\n",
    "        op1, op2 = self.pop(), self.pop()\n",
    "        self.append(op1 // op2)\n",
    "\n",
    "def test():\n",
    "    ex_stack = ExtendedStack([1, 2, 3, 4, -3, 3, 5, 10])\n",
    "    ex_stack.div()\n",
    "    assert ex_stack.pop() == 2\n",
    "    ex_stack.sub()\n",
    "    assert ex_stack.pop() == 6\n",
    "    ex_stack.sum()\n",
    "    assert ex_stack.pop() == 7\n",
    "    ex_stack.mul()\n",
    "    assert ex_stack.pop() == 2\n",
    "    assert len(ex_stack) == 0\n",
    "\n",
    "if __name__ == \"__main__\":\n",
    "    test()\n",
    "\n",
    "#https://github.com/vpetrigo/python-course/blob/master/week1/task8.py#L34"
   ]
  },
  {
   "cell_type": "markdown",
   "metadata": {},
   "source": [
    "### Задача 5: Логгирование (1 балл)\n",
    "Одно из применений множественного наследование – расширение функциональности класса каким-то заранее определенным способом. Например, если нам понадобится логировать какую-то информацию при обращении к методам класса.  \n",
    "Реализуйте класс Loggable: У него есть ровно один метод log, который позволяет выводить в лог какое-то сообщение, добавляя при этом текущее время. (для вывода времени воспользуйтесь стандартной библиотекой time).  \n",
    "Реализуйте класс LoggableList, отнаследовав его от классов list и Loggable таким образом, чтобы при добавлении элемента в список посредством метода append в лог отправлялось сообщение, состоящее из только что добавленного элемента."
   ]
  },
  {
   "cell_type": "code",
   "execution_count": 65,
   "metadata": {},
   "outputs": [
    {
     "name": "stdout",
     "output_type": "stream",
     "text": [
      "Sun Oct 25 21:26:01 2020: 1\n",
      "Sun Oct 25 21:26:01 2020: str\n"
     ]
    }
   ],
   "source": [
    "import time\n",
    "\n",
    "class Loggable:\n",
    "    def log(self, msg):\n",
    "        print(str(time.ctime()) + \": \" + str(msg))\n",
    "\n",
    "class LoggableList(list, Loggable):\n",
    "    def append(self, x):\n",
    "        self.log(x)\n",
    "        super().append(x)\n",
    "\n",
    "def test():\n",
    "    t = LoggableList()\n",
    "    t.append(1)\n",
    "    t.append('str')\n",
    "\n",
    "    assert len(t) == 2\n",
    "\n",
    "if __name__ == \"__main__\":\n",
    "    test()\n",
    "    \n",
    "#https://github.com/vpetrigo/python-course/blob/master/week1/task9.py    \n"
   ]
  },
  {
   "cell_type": "markdown",
   "metadata": {},
   "source": [
    "### Задача 6: Цепочки наследований  (1 балл)\n",
    "Создайте правильные цепочки наследования классов для:\n",
    "Животное, собака, щенок, самолет, компьютер, имеющее лапы, летающее, орел, белка-летяга, разумное, человек, медуза, одуванчик.   \n",
    "В эти классы добавьте конструкторы, а также методы (с пустым телом) для следующих действий (где надо): полаять, родить, сложить два числа, ужалить, подумать, взлететь, пустить корни, поесть, взять, а также следующие поля: возраст, латинское название (или модель). Прокомментируйте вашу логику"
   ]
  },
  {
   "cell_type": "code",
   "execution_count": 85,
   "metadata": {},
   "outputs": [],
   "source": [
    "class animal:\n",
    "    age = '' \n",
    "    latin_name= ''\n",
    "    def __init__(self,name):\n",
    "        self.name = name\n",
    "        \n",
    "    def think():\n",
    "        pass\n",
    "    def give_birth():\n",
    "        pass\n",
    "    def eating():\n",
    "        pass\n",
    "    def taking():\n",
    "        pass\n",
    "class dandelion():\n",
    "    age = '' \n",
    "    latin_name = ''\n",
    "    def __init__(self,name):\n",
    "        self.name = name\n",
    "        \n",
    "    def put_down_roots():\n",
    "        pass\n",
    "        \n",
    "\n",
    "class having_feet(animal):\n",
    "    pass\n",
    "    \n",
    "class flying(animal):\n",
    "    def fly_up():\n",
    "        pass\n",
    "class dog(having_feet):\n",
    "    def bark():\n",
    "        pass\n",
    "\n",
    "class puppy(dog):\n",
    "    pass\n",
    "class eagle(flying):\n",
    "    pass\n",
    "class flying_squirrel(having_feet):\n",
    "    pass\n",
    "class intellegent(having_feet):\n",
    "    pass\n",
    "class human(intellegent):\n",
    "    pass\n",
    "class jellyfish(animal):\n",
    "    def sting():\n",
    "        pass\n",
    "    \n"
   ]
  },
  {
   "cell_type": "code",
   "execution_count": null,
   "metadata": {},
   "outputs": [],
   "source": []
  }
 ],
 "metadata": {
  "kernelspec": {
   "display_name": "Python 3",
   "language": "python",
   "name": "python3"
  },
  "language_info": {
   "codemirror_mode": {
    "name": "ipython",
    "version": 3
   },
   "file_extension": ".py",
   "mimetype": "text/x-python",
   "name": "python",
   "nbconvert_exporter": "python",
   "pygments_lexer": "ipython3",
   "version": "3.7.4"
  }
 },
 "nbformat": 4,
 "nbformat_minor": 2
}
