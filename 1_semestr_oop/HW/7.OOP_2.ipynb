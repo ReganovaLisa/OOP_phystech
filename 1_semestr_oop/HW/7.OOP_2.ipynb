{
 "cells": [
  {
   "cell_type": "markdown",
   "metadata": {
    "collapsed": true
   },
   "source": [
    "# Домашняя работа №6 (Курс \"Advanced Python\")\n",
    "## ФИО:"
   ]
  },
  {
   "cell_type": "markdown",
   "metadata": {},
   "source": [
    "**Тема:** Объектно ориентированное программирование 2  \n",
    "**Выдана:** 15 октября  \n",
    "**Мягкий дедлайн:** 22 октября  \n",
    "**Жесткий дедлайн:** 29 октября"
   ]
  },
  {
   "cell_type": "markdown",
   "metadata": {},
   "source": [
    "**Правила:**\n",
    "Результат выполнения задания - отчет в формате Jupyter Notebook с кодом и выводами. В ходе выполнения задания требуется реализовать все необходимые алгоритмы, провести эксперименты и ответить на поставленные вопросы. Дополнительные выводы приветствуются. Чем меньше кода и больше комментариев - тем лучше.\n",
    "\n",
    "Все ячейки должны быть \"выполненными\", при этом результат должен воспроизвдиться при проверке.\n",
    "\n",
    "Задание выполняется самостоятельно. **Если вы нашли в Интернете какой-то код, который собираетесь заимствовать, обязательно укажите это в задании** Если вы советовались с товарищем и/или позаимствовали его решение, обязательно укажите об этом в отчете. Нет ничего плохого в том, что вы пытаетесь разобраться и помогаете друг другу; плохо - когда вы скрываете это и выдаете чужие заслуги за свои. При обнаружении списывания ВСЕМ студентам, имеющим одинаковые списанные решения будет выставлен ОТРИЦАТЕЛЬНЫЙ балл (т.е если задача стоит 4 балла, вы получите не 0, а -4), \"оригинал\" искаться не будет\n",
    "\n",
    "Задание, сданное после жесткого дедлайна, не принимается."
   ]
  },
  {
   "cell_type": "markdown",
   "metadata": {
    "collapsed": true
   },
   "source": [
    "### Задача 1: ДНК (7 баллов)\n",
    "Реализуйте классы для ДНК (двойная цепочк) и РНК (одинарная цепочка). Данные структуры данных должны поддерживать следующие возможности:\n",
    "1. Создавать структуру из строк. Обратите внимание, что в ДНК встречаются только азотистые основания ATGC, а в РНК (AUGC) поэтому если во входной строке содержались другие символы, необходимо поднимать ошибку (Exception). \n",
    "2. Поддерживают индексацию. РНК по индексу возвращает i-ое азотистое основание, ДНК - пару азотистых оснований (соответствующие первой и второй цепочке)\n",
    "3. РНК может возвращать комплиментарную ДНК (каждому азотистому основанию из РНК соответсвует соответсвующее основание для первой цепочки ДНК: $A \\to T$, $U \\to A$, $G \\to C$, $C \\to G$. Вторая цепочка ДНК строится комплиментарной первой строчке ДНК: $A \\to T$, $T \\to A$, $G \\to C$, $C \\to G$) \n",
    "4. РНК, как и ДНК, могут складываться путем склеивания (\"AUUGAACUA\" + \"CGGAAA\" = \"AUUGAACUACGGAAA\"). У ДНК склеиваются соответствующие цепочки ([\"ACG\", \"TGC\"] + [\"TTTAAT\", \"AAATTA\"] = [\"ACGTTTAAT\", \"TGCAAATTA\"])\n",
    "5. РНК могут перемножаться друг с другом: каждое азотистое основание результирующей РНК получается случайным выбором одного из двух соответсвующих родительских азотистых оснований. Если одна из цепочек длиннее другой, то перемножение происходит с начала, когда одна из цепочек закончится оставшийся хвост другой переносится без изменений.\n",
    "![Умножение РНК](Умножение РНК.jpg \"Умножение РНК\")\n",
    "6. ДНК могут перемножаться друг с другом: ПЕРВЫЕ цепочки каждой из ДНК перемножаются по такому же приницпу, как перемножаются РНК выше. Вторая цепочка результирующей ДНК строится как комплиментарная первой \n",
    "7. Цепочки РНК и первую и вторую у ДНК можно проверять на равенство\n",
    "8. Оба класса должны давать осмысленный вывод как при print, так и просто при вызове в ячейке  \n",
    "**Обдумайте и создайте необходимые и, возможно, вспомогательные классы, настройте наследование, если требуется. Полученная структура должна быть адекватной и удобной, готовой к простому расширению функционала, если потребуется**"
   ]
  },
  {
   "cell_type": "code",
   "execution_count": 3,
   "metadata": {},
   "outputs": [],
   "source": [
    "# ну это Никитин код, я его прочитала и осознала, честно\n",
    "from random import randint\n",
    "\n",
    "\n",
    "class Bad_Base(Exception):\n",
    "    pass\n",
    "\n",
    "\n",
    "class RNA(str):\n",
    "    def __init__(self,a):\n",
    "      \n",
    "        for i in a:\n",
    "            if i != \"A\" and i != \"T\" and i != \"G\" and i != \"C\":\n",
    "                raise Bad_Base\n",
    "                break\n",
    "            \n",
    "    def complementary_chain(self):\n",
    "        s = {'A': 'T', 'U': 'A', 'G': 'C', 'C': 'G'}\n",
    "        return DNA(''.join([s[self[i]] for i in range(len(self))]))\n",
    "          \n",
    "    \n",
    "    def __add__(self, other):\n",
    "        return RNA(super().__add__(other)) #строки так умеют\n",
    "    \n",
    "    def __mul__(self, other):\n",
    "        n = min(len(self), len(other))\n",
    "        new_rna = ''\n",
    "        for i in range(n):\n",
    "            new_rna += [self, other][randint(0, 1)][i]\n",
    "        if n == len(self):\n",
    "            return RNA(new_rna + other[n:])\n",
    "        else:\n",
    "            return RNA(new_rna + self[n:])\n",
    "        \n",
    "    def __eq__(self, other):  #и так умеют         \n",
    "        return super().__eq__(other)\n",
    "    \n",
    "    \n",
    "    \n",
    "class DNA:\n",
    "    dict_compl = {'A': 'T', 'T': 'A', 'G': 'C', 'C': 'G'}\n",
    "    \n",
    "    def __init__(self, arg):\n",
    "        if isinstance(arg, str):\n",
    "            for elem in arg:\n",
    "                if i != \"A\" and i != \"T\" and i != \"G\" and i != \"C\":\n",
    "                    raise Bad_Base\n",
    "                    break\n",
    "            self.__chain1 = arg \n",
    "            self.__chain2 = DNA.create_compl_chain(arg) \n",
    "        elif isinstance(arg, list) and len(arg) == 2 and isinstance(arg[0], str) and isinstance(arg[0], str): #или по [str1, str2]\n",
    "            for elem in arg[0]:\n",
    "                if elem not in set(['A', 'T', 'G', 'C']):\n",
    "                    raise Exception\n",
    "                    \n",
    "            if DNA.create_compl_chain(arg[0]) != arg[1]:\n",
    "                raise Exception\n",
    "            \n",
    "            self.__chain1 = arg[0]\n",
    "            self.__chain2 = arg[1]\n",
    "        else:\n",
    "            raise Exception\n",
    "    \n",
    "    def create_compl_chain(chain):\n",
    "        return ''.join([DNA.dict_compl[chain[i]] for i in range(len(chain))])\n",
    "    \n",
    "    def __str__(self):\n",
    "        return str([self.__chain1, self.__chain2])\n",
    "    \n",
    "    def __repr__(self):\n",
    "        return str([self.__chain1, self.__chain2])\n",
    "    \n",
    "    def __getitem__(self, i):\n",
    "        return str([self.__chain1[i], self.__chain2[i]])\n",
    "    \n",
    "    def __add__(self, other):\n",
    "        return DNA(self.__chain1 + other.__chain1)\n",
    "    \n",
    "    def __mul__(self, other): \n",
    "        n = min(len(self.__chain1), len(other.__chain1))\n",
    "        new_dna = ''\n",
    "        for i in range(n):\n",
    "            new_dna += [self.__chain1, other.__chain1][randint(0, 1)][i]\n",
    "        if n == len(self.__chain1):\n",
    "            return DNA(new_dna + other.__chain1[n:])\n",
    "        else:\n",
    "            return DNA(new_dna + self.__chain1[n:])\n",
    "        \n",
    "    def __eq__(self, other):\n",
    "        return self.__chain1 == other.__chain1\n",
    "    \n",
    "    def getchain1(self):\n",
    "        return self.__chain1\n",
    "    \n",
    "    def getchain2(self):\n",
    "        return self.__chain2\n",
    "        \n",
    "                        \n"
   ]
  },
  {
   "cell_type": "markdown",
   "metadata": {},
   "source": [
    "### Задача 2: логгер времени (1 балла)\n",
    "Напишите декоратор, который будет выводить время выполнения декорируемой функции. Библиотека time вам в помощь. Проиллюстрируйте работу вашего декоратора "
   ]
  },
  {
   "cell_type": "code",
   "execution_count": 2,
   "metadata": {
    "collapsed": true
   },
   "outputs": [],
   "source": [
    "import time\n",
    "\n",
    "def timer(func):\n",
    "    @functools.wraps(func)\n",
    "    def wrapper(*args, **kwargs):\n",
    "        start = time.perf_counter() #абсолютное время счетчика, точнее, чем у time.time()\n",
    "        f = func(*args, **kwargs)\n",
    "        end = time.perf_counter()\n",
    "        res = end - start\n",
    "        print(res)\n",
    "        return f\n",
    "    return wrapper"
   ]
  },
  {
   "cell_type": "markdown",
   "metadata": {},
   "source": [
    "### Задача 3: подсчет детей (2 балла + 1 бонусный)\n",
    "**Т.е за нерешенную задачу вы потеряете 2 обязательных балла, а если сделаете верно, то получите 3 балла**  \n",
    "\n",
    "На вход поступает описание наследования классов в формате JSON  \n",
    "Описание представляет из себя массив JSON-объектов, которые соответствуют классам. У каждого JSON-объекта есть поле name, которое содержит имя класса, и поле parents, которое содержит список имен прямых предков.\n",
    "\n",
    "Пример:\n",
    "[{\"name\": \"A\", \"parents\": []}, {\"name\": \"B\", \"parents\": [\"A\", \"C\"]}, {\"name\": \"C\", \"parents\": [\"A\"]}]\n",
    "\n",
    "Эквивалент на Python:\n",
    "\n",
    "```python3\n",
    "class A:\n",
    "    pass\n",
    "\n",
    "class B(A, C):\n",
    "    pass\n",
    "\n",
    "class C(A):\n",
    "    pass\n",
    "```\n",
    "Гарантируется, что никакой класс не наследуется от себя явно или косвенно, и что никакой класс не наследуется явно от одного класса более одного раза.\n",
    "\n",
    "Напишите функцию, которая будет по строке описания JSON возвращать словарь, в котором для каждого класса указано, предком скольких классов он является.\n",
    "\n",
    "Например count_childs('[{\"name\": \"A\", \"parents\": []}, {\"name\": \"B\", \"parents\": [\"A\", \"C\"]}, {\"name\": \"C\", \"parents\": [\"A\"]}]') возвращает\n",
    "{\"A\": 3, \"B\": 1, \"C\": 2}"
   ]
  },
  {
   "cell_type": "code",
   "execution_count": 24,
   "metadata": {},
   "outputs": [],
   "source": [
    "def count_childs(s):\n",
    "    d = {}\n",
    "    for i in s:\n",
    "        if i[\"name\"] not in d:\n",
    "            d[i[\"name\"]] = 1\n",
    "        else:\n",
    "            d[i[\"name\"]] += 1\n",
    "            \n",
    "        a = i[\"parents\"]\n",
    "        for k in a:\n",
    "            if k in d:\n",
    "                d[k]+=1\n",
    "            else:\n",
    "                d[k] = 1\n",
    "               \n",
    "    return d            \n",
    "               \n",
    "        "
   ]
  },
  {
   "cell_type": "code",
   "execution_count": 25,
   "metadata": {},
   "outputs": [
    {
     "name": "stdout",
     "output_type": "stream",
     "text": [
      "{'A': 3, 'B': 1, 'C': 2}\n"
     ]
    }
   ],
   "source": [
    "print(count_childs([{\"name\": \"A\", \"parents\": []}, {\"name\": \"B\", \"parents\": [\"A\", \"C\"]}, {\"name\": \"C\", \"parents\": [\"A\"]}]))"
   ]
  }
 ],
 "metadata": {
  "kernelspec": {
   "display_name": "Python 3",
   "language": "python",
   "name": "python3"
  },
  "language_info": {
   "codemirror_mode": {
    "name": "ipython",
    "version": 3
   },
   "file_extension": ".py",
   "mimetype": "text/x-python",
   "name": "python",
   "nbconvert_exporter": "python",
   "pygments_lexer": "ipython3",
   "version": "3.7.4"
  }
 },
 "nbformat": 4,
 "nbformat_minor": 2
}
