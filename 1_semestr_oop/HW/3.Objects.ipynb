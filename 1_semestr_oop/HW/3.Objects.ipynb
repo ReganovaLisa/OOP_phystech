{
 "cells": [
  {
   "cell_type": "markdown",
   "metadata": {},
   "source": [
    "# Домашняя работа №3 (Курс \"Advanced Python\")\n",
    "## ФИО:"
   ]
  },
  {
   "cell_type": "markdown",
   "metadata": {},
   "source": [
    "**Тема:** Объекты и функции в Python  \n",
    "**Выдана:** 16.09  \n",
    "**Мягкий дедлайн:**  23.09  \n",
    "**Жесткий дедлайн:**  30.09  "
   ]
  },
  {
   "cell_type": "markdown",
   "metadata": {},
   "source": [
    "Правила: Результат выполнения задания - отчет в формате Jupyter Notebook с кодом и выводами. В ходе выполнения задания требуется реализовать все необходимые алгоритмы, провести эксперименты и ответить на поставленные вопросы. Дополнительные выводы приветствуются. Чем меньше кода и больше комментариев - тем лучше.\n",
    "\n",
    "Все ячейки должны быть \"выполненными\", при этом результат должен воспроизвдиться при проверке.\n",
    "\n",
    "Задание выполняется самостоятельно. Если вы нашли в Интернете какой-то код, который собираетесь заимствовать, обязательно укажите это в задании. Если вы советовались с товарищем и/или позаимствовали его решение, обязательно укажите об этом в отчете. Нет ничего плохого в том, что вы пытаетесь разобраться и помогаете друг другу; плохо - когда вы скрываете это и выдаете чужие заслуги за свои. При обнаружении списывания ВСЕМ студентам, имеющим одинаковые списанные решения будет выставлен ОТРИЦАТЕЛЬНЫЙ балл (т.е если задача стоит 4 балла, вы получите не 0, а -4), \"оригинал\" искаться не будет\n",
    "\n",
    "Задание, сданное после жесткого дедлайна, не принимается."
   ]
  },
  {
   "cell_type": "markdown",
   "metadata": {},
   "source": [
    "### Упражнение 1:\n",
    "Еще раз поиграемся с объектами. Напишите, что выведет код ниже, не запуская его"
   ]
  },
  {
   "cell_type": "markdown",
   "metadata": {},
   "source": [
    "```python\n",
    "x = [1,2,3,4]\n",
    "y = x\n",
    "z = x * 2\n",
    "w = [1,2,3,4]\n",
    "print(x == w)\n",
    "print(x is w)\n",
    "\n",
    "x[0] = 4\n",
    "print(y)\n",
    "print(z)\n",
    "\n",
    "z[0] = 5\n",
    "print(z)\n",
    "\n",
    "x = [[1],[2],[3],[4]]\n",
    "z = x * 2\n",
    "x[0] = [4]\n",
    "print(z)\n",
    "\n",
    "z[0].append(3)\n",
    "print(z)\n",
    "\n",
    "z[0] = [5]\n",
    "print(z)\n",
    "\n",
    "s = \"123\"\n",
    "t = s\n",
    "s = t + \"4\"\n",
    "print(t)\n",
    "```"
   ]
  },
  {
   "cell_type": "markdown",
   "metadata": {},
   "source": [
    "Ваш ответ"
   ]
  },
  {
   "cell_type": "markdown",
   "metadata": {},
   "source": [
    "Запустите код сверху и проверьте ваши предположения. Если вы где-то ответили неверно, обязательно разберитесь в причинах! Понимание этой темы очень важно.  \n",
    "Для визуализации создаваемых объектов можете воспользоваться http://www.pythontutor.com/visualize.html#mode=display . Надеюсь, поможет разобраться)"
   ]
  },
  {
   "cell_type": "markdown",
   "metadata": {},
   "source": [
    "### Задача 1: (2 балла)"
   ]
  },
  {
   "cell_type": "markdown",
   "metadata": {},
   "source": [
    "Реализуйте функцию, которая будет вычислять количество различных объектов в переданном ей списке.   \n",
    "Два объекта a и b считаются различными, если a is b равно False."
   ]
  },
  {
   "cell_type": "code",
   "execution_count": 33,
   "metadata": {},
   "outputs": [],
   "source": [
    "''''\n",
    "ну он не работает со списками\n",
    "def countr(s):\n",
    "    count = 0\n",
    "    a = set()\n",
    "    for i in s:\n",
    "        if i not in a:\n",
    "            a.add(i)\n",
    "            count += 1\n",
    "    return(count)  \n",
    "print(countr([1, 12, 'fg', 'fg', '1', ['hgh']]))    \n",
    " '''\n",
    "\n",
    "def countr(objects):\n",
    "    return(len(set(map(id, objects))))\n",
    "# а такой работает((https://www.cyberforum.ru/python-beginners/thread2040576.html\n",
    "#print(countr([1, 12, 'fg', 'fg', '1', ['hgh']]))"
   ]
  },
  {
   "cell_type": "markdown",
   "metadata": {},
   "source": [
    "### Задача 2: (1 балл)\n",
    "Реализуйте функцию, которая будет вычислять количество различных объектов среди переданных ей аргументов.   \n",
    "Два объекта a и b считаются различными, если a is b равно False.    "
   ]
  },
  {
   "cell_type": "code",
   "execution_count": 44,
   "metadata": {},
   "outputs": [
    {
     "data": {
      "text/plain": [
       "7"
      ]
     },
     "execution_count": 44,
     "metadata": {},
     "output_type": "execute_result"
    }
   ],
   "source": [
    "def counter2(*args):\n",
    "    a = []\n",
    "    for k in args:\n",
    "        a.append(k)\n",
    "    return(countr(a))       \n",
    "counter2('f',21, 'f', 'fffff', 21.,[123], [123], 123)\n"
   ]
  },
  {
   "cell_type": "markdown",
   "metadata": {},
   "source": [
    "### Задача 3: (2 балла)\n",
    "Реализуйте функцию, которая будет вычислять общее количество различных объектов, которые содержатся в ее аргументах, т.е например  \n",
    "n_different([0, 1, 2], [[2, 3, 4], [5 , 6]], 6) == 7 (за числа) + 1 (за первый лист) + 2 (за два вложенных листа во втором аргументе) + 1 (за лист из второго аргумента)\n",
    "\n",
    "Ваша функция должна КАК МИНИМУМ корректно обрабатывать все встроенные стандартные типы данных"
   ]
  },
  {
   "cell_type": "code",
   "execution_count": 69,
   "metadata": {},
   "outputs": [],
   "source": [
    "ints = []\n",
    "    \n",
    "floats = []\n",
    "lists = []\n",
    "tuples = []\n",
    "strs = []\n",
    "sets = []\n",
    "dicts = []\n",
    "\n",
    "def n_different(*args):\n",
    "    global ints\n",
    "    global floats\n",
    "    global lists\n",
    "    global tuples\n",
    "    global strs\n",
    "    global sets\n",
    "    global dicts\n",
    "    schet = 0\n",
    "   \n",
    "    def raskidat(*args):\n",
    "        global ints\n",
    "        global floats\n",
    "        global lists\n",
    "        global tuples\n",
    "        global strs\n",
    "        global sets\n",
    "        global dicts\n",
    "        for p in args:\n",
    "            if isinstance(p,float):\n",
    "                floats.append(p)   \n",
    "            elif isinstance(p,int):\n",
    "                ints.append(p)\n",
    "            elif isinstance(p,float):\n",
    "                floats.append(p)   \n",
    "            elif isinstance(p,list):\n",
    "                lists.append(p)\n",
    "                for t in p:\n",
    "                    raskidat(t)\n",
    "            elif isinstance(p,tuple):\n",
    "                tuples.append(p)\n",
    "                for o in p:\n",
    "                    raskidat(o)\n",
    "            elif isinstance(p,str):\n",
    "                if len(p) == 1:\n",
    "                    strs.append(p)\n",
    "                else:\n",
    "                    for h in p:\n",
    "                        raskidat(h)\n",
    "\n",
    "            elif isinstance(p,set):\n",
    "                sets.append(p)\n",
    "                for w in p:\n",
    "                    raskidat(w)\n",
    "            elif isinstance(p,dict):\n",
    "                dicts.append(p)\n",
    "                for g in p:\n",
    "                    raskidat(g)\n",
    "        return[ ints,\n",
    "        floats,\n",
    "        lists,\n",
    "        tuples,\n",
    "        strs,\n",
    "        sets,\n",
    "        dicts]\n",
    "\n",
    "    for v in raskidat(*args):\n",
    "        schet += countr(v)\n",
    "        #print(v)\n",
    "       \n",
    "    ints = []\n",
    "    \n",
    "    floats = []\n",
    "    lists = []\n",
    "    tuples = []\n",
    "    strs = []\n",
    "    sets = []\n",
    "    dicts = []\n",
    "    return(schet)\n",
    "    "
   ]
  },
  {
   "cell_type": "code",
   "execution_count": 70,
   "metadata": {},
   "outputs": [
    {
     "data": {
      "text/plain": [
       "11"
      ]
     },
     "execution_count": 70,
     "metadata": {},
     "output_type": "execute_result"
    }
   ],
   "source": [
    "n_different([0, 1, 2], [[2, 3, 4], [5 , 6]], 6)"
   ]
  },
  {
   "cell_type": "markdown",
   "metadata": {},
   "source": [
    "### Упражнение 2:\n",
    "Еще раз разберитесь, как и чему присваиваются аргументы в функциях. Подумайте, что будет выдавать каждый из вызовов ниже, а потом убедитесь в правильности своего понимания  \n",
    "\n",
    "def illustrate(a, *params, b=10):\n",
    "    print(\"a=\", a)              #выводит значение a\n",
    "    \n",
    "    print(\"params=\", end=\"\")    #выводит содержимое params\n",
    "    for elem in params:\n",
    "        print(elem, end=\"\")     #обратите внимание, у принта как раз и есть этот\n",
    "    print()                     #параметр end, до которого можно достучаться только непосредственным его указанием\n",
    "    \n",
    "    print(\"b=\", b)              #выводит значение b\n",
    "    \n",
    "illustrate(1, 2, 3, 4)\n",
    "'''\n",
    "illustrate(1, 2, b=3)\n",
    "illustrate(1, 2)\n",
    "illustrate(1)\n",
    "illustrate(b=1, 2)\n",
    "illustrate([1,2,3,4,5])\n",
    "illustrate(*[1,2,3,4,5])\n",
    "illustrate(**{\"a\":1, \"b\":5})\n",
    "illustrate(*{\"a\":1, \"b\":5})\n",
    "illustrate({\"a\":1, \"b\":5})\n",
    "illustrate(*{\"a\", \"b\"})\n",
    "illustrate({\"a\", \"b\"})\n",
    "```"
   ]
  },
  {
   "cell_type": "code",
   "execution_count": 32,
   "metadata": {},
   "outputs": [
    {
     "name": "stdout",
     "output_type": "stream",
     "text": [
      "a= {'a', 'b'}\n",
      "params=\n",
      "b= 10\n"
     ]
    }
   ],
   "source": [
    "def illustrate(a, *params, b=10):\n",
    "    print(\"a=\", a)              #выводит значение a\n",
    "    \n",
    "    print(\"params=\", end=\"\")    #выводит содержимое params\n",
    "    for elem in params:\n",
    "        print(elem, end=\"\")     #обратите внимание, у принта как раз и есть этот\n",
    "    print()                     #параметр end, до которого можно достучаться только непосредственным его указанием\n",
    "    \n",
    "    print(\"b=\", b)              #выводит значение b\n",
    "    \n",
    "#illustrate(1, 2, 3, 4)\n",
    "\n",
    "#illustrate(1, 2, b=3)\n",
    "#illustrate(1, 2)\n",
    "#illustrate(1)\n",
    "#illustrate(b=1, 2)\n",
    "#illustrate([1,2,3,4,5])\n",
    "#illustrate(*[1,2,3,4,5])\n",
    "#illustrate(**{\"a\":1, \"b\":5})\n",
    "#illustrate(*{\"a\":1, \"b\":5})\n",
    "#illustrate({\"a\":1, \"b\":5})\n",
    "#illustrate(*{\"a\", \"b\"})\n",
    "illustrate({\"a\", \"b\"})\n"
   ]
  },
  {
   "cell_type": "code",
   "execution_count": null,
   "metadata": {},
   "outputs": [],
   "source": []
  }
 ],
 "metadata": {
  "kernelspec": {
   "display_name": "Python 3",
   "language": "python",
   "name": "python3"
  },
  "language_info": {
   "codemirror_mode": {
    "name": "ipython",
    "version": 3
   },
   "file_extension": ".py",
   "mimetype": "text/x-python",
   "name": "python",
   "nbconvert_exporter": "python",
   "pygments_lexer": "ipython3",
   "version": "3.7.4"
  }
 },
 "nbformat": 4,
 "nbformat_minor": 2
}
