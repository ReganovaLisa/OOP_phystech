{
 "cells": [
  {
   "cell_type": "markdown",
   "metadata": {},
   "source": [
    "# Домашняя работа №9 (Курс \"Advanced Python\")\n",
    "## ФИО: Реганова Елизавета Владиславовна\n"
   ]
  },
  {
   "cell_type": "code",
   "execution_count": null,
   "metadata": {},
   "outputs": [],
   "source": [
    "\n",
    "10\n"
   ]
  },
  {
   "cell_type": "markdown",
   "metadata": {},
   "source": [
    "**Тема:** Регулярные выражения и сериализация  \n",
    "**Выдана:** 24 ноября  \n",
    "**Мягкий дедлайн:** 6 декабря  \n",
    "**Жесткий дедлайн:** 13 декабря  "
   ]
  },
  {
   "cell_type": "markdown",
   "metadata": {},
   "source": [
    "**Правила:**\n",
    "Результат выполнения задания - отчет в формате Jupyter Notebook с кодом и выводами. В ходе выполнения задания требуется реализовать все необходимые алгоритмы, провести эксперименты и ответить на поставленные вопросы. Дополнительные выводы приветствуются. Чем меньше кода и больше комментариев - тем лучше.\n",
    "\n",
    "Все ячейки должны быть \"выполненными\", при этом результат должен воспроизвдиться при проверке.\n",
    "\n",
    "Задание выполняется самостоятельно. **Если вы нашли в Интернете какой-то код, который собираетесь заимствовать, обязательно укажите это в задании.** Если вы советовались с товарищем и/или позаимствовали его решение, обязательно укажите об этом в отчете. Нет ничего плохого в том, что вы пытаетесь разобраться и помогаете друг другу; плохо - когда вы скрываете это и выдаете чужие заслуги за свои. При обнаружении списывания ВСЕМ студентам, имеющим одинаковые списанные решения будет выставлен ОТРИЦАТЕЛЬНЫЙ балл (т.е если задача стоит 4 балла, вы получите не 0, а -4), \"оригинал\" искаться не будет\n",
    "\n",
    "Задание, сданное после жесткого дедлайна, не принимается."
   ]
  },
  {
   "cell_type": "markdown",
   "metadata": {},
   "source": [
    "# Регулярные выражения"
   ]
  },
  {
   "cell_type": "markdown",
   "metadata": {},
   "source": [
    "**И да, хоть суть этих заданий заключается в одной строчке регулярки, тут замечать списывания и скат из интернета очень легко ;) Попробуйте решить эти задачи самостоятельно - это не сложно, к программированию имеет мало отношения. Зато развлечетесь, как  от решения головоломок**  \n",
    "Первые семь задач оцениваются либо на полный балл, либо на ноль"
   ]
  },
  {
   "cell_type": "markdown",
   "metadata": {},
   "source": [
    "### Задача 1 (0.5 балла):\n",
    "Найдите и напечатайте строки, содержащие две буквы \"g\", между которыми ровно пять символов."
   ]
  },
  {
   "cell_type": "code",
   "execution_count": 4,
   "metadata": {},
   "outputs": [],
   "source": [
    "import re\n"
   ]
  },
  {
   "cell_type": "code",
   "execution_count": 39,
   "metadata": {},
   "outputs": [
    {
     "name": "stdout",
     "output_type": "stream",
     "text": [
      "gdgkkkghghjfjkg\n",
      "gfffffgff\n"
     ]
    }
   ],
   "source": [
    "#я не оч понимаю, как тут ввод производится,пусть строки пробелом, например, разделены p.s. я только сейчас поняла, что пробелом слова разделяют, тогда другой ввод нужен,оставлю так,  просто ток додеала(((\n",
    "s = 'gdgkkkghghjfjkg роло gfffffgff hf'\n",
    "for line in s.split(' '):\n",
    "    if re.search('g.....g', line):\n",
    "        print(line)"
   ]
  },
  {
   "cell_type": "markdown",
   "metadata": {},
   "source": [
    "### Задача 2: (0.5 балла):\n",
    "Найдите и напечатайте строки, содержащие обратный слеш \"\\\\\"."
   ]
  },
  {
   "cell_type": "code",
   "execution_count": 47,
   "metadata": {},
   "outputs": [
    {
     "name": "stdout",
     "output_type": "stream",
     "text": [
      "gdgkkkghgh/j\\jkg\n",
      "gffff\\gf\\\n"
     ]
    }
   ],
   "source": [
    "s = 'gdgkkkghgh/j\\jkg роло gffff\\gf\\ hf'\n",
    "for line in s.split(' '):\n",
    "    if re.search(r'.*\\\\.*', line):\n",
    "        print(line)\n"
   ]
  },
  {
   "cell_type": "markdown",
   "metadata": {},
   "source": [
    "### Задача 3: (1 балл)\n",
    "В строке замените первое вхождение слова, состоящего только из латинских букв \"c\" (регистр не важен), на слово \"sub\".\n",
    "\n",
    "**Примеры тестов**:  \n",
    "'There’ll be no more \"Ccccccccccc\"' >> 'There’ll be no more \"sub\"'  \n",
    "'CcCcCcCc CcCcCc' >> 'sub CcCcCc'  "
   ]
  },
  {
   "cell_type": "code",
   "execution_count": 6,
   "metadata": {},
   "outputs": [
    {
     "name": "stdout",
     "output_type": "stream",
     "text": [
      "sub CcCcCc\n"
     ]
    }
   ],
   "source": [
    "s = 'CcCcCcCc CcCcCc'\n",
    "print(re.sub('\\\\b[Cc]+\\\\b', 'sub', s, 1))"
   ]
  },
  {
   "cell_type": "markdown",
   "metadata": {},
   "source": [
    "### Задача 4: (1 балл)\n",
    "При помощи регулярного выражения отыщите в строке дату в формате ЧЧ:ММ (имейте в виду, что и часы и минуты состоят из двух цифр, а комбинация 25:78 не является корректным временем).\n",
    "\n",
    "**Примеры тестов:**  \n",
    "\"Мы пошли обедать в 13:04\" >> \"13:04\"  \n",
    "\"В 8:00 чтобы были в университете!\" >> None  \n",
    "\"Ладно. Приходите все же к 10:30, а то я сам так рано не встану\" >> \"10:30\"  \n",
    "\"Электричка под номером 1004 отправляется в 00:04 с 3 пути\" >> \"00:04\"  "
   ]
  },
  {
   "cell_type": "code",
   "execution_count": 37,
   "metadata": {},
   "outputs": [
    {
     "name": "stdout",
     "output_type": "stream",
     "text": [
      "['13:34']\n"
     ]
    }
   ],
   "source": [
    "s = \"Мы пошли обедать в 13:34\" \n",
    "print(re.findall('[0-1]\\d:[0-5]\\d|2[0-3]:[0-5]\\d',s))\n"
   ]
  },
  {
   "cell_type": "markdown",
   "metadata": {},
   "source": [
    "### Задача 5: (1 балл)\n",
    "В строке поменяйте местами последние две буквы в каждом слове, состоящем хотя бы из 2х букв. \n",
    "Буквой считается символ из группы \\w.\n",
    "\n",
    "**Примеры тестов**  \n",
    "\"look at this sample text with a letter\"  >> \"loko ta thsi sampel tetx wihh a lettre\"  \n",
    "\"/\"this' !is. ?nic2,\" >> \"/\"thsi' !si. ?ni2c,\"\n"
   ]
  },
  {
   "cell_type": "code",
   "execution_count": 59,
   "metadata": {},
   "outputs": [
    {
     "name": "stdout",
     "output_type": "stream",
     "text": [
      "loko ta thsi sampel tetx wiht a lettre\n"
     ]
    }
   ],
   "source": [
    "s = \"look at this sample text with a letter\"\n",
    "\n",
    "print(re.sub(r'\\b(\\w*)(\\w)(\\w)\\b', r'\\1\\3\\2', s))"
   ]
  },
  {
   "cell_type": "markdown",
   "metadata": {},
   "source": [
    "### Задача 6: (1 балл)\n",
    "Используя регулярное выражение, выделите повторяющиеся подряд слова тегом [repeat][/repeat]:\n",
    "\n",
    "\"Today is a perfect day\" >> \"Today is a perfect day\"  \n",
    "\"Today is is a perfect day\" >> \"Today is [repeat]is[/repeat] a perfect day\"  \n",
    "\"nice day, nice night!\" >> \"nice day, nice night!\"  \n",
    "\"first second second first second first first\" >> \"first second [repeat]second[/repeat] first second first [repeat]first[/repeat]\"   \n",
    "\"Bad bad news: you should analyze any case\" >> \"Bad [repeat]bad[/repeat] news: you should analyze any case\"\n"
   ]
  },
  {
   "cell_type": "code",
   "execution_count": 50,
   "metadata": {},
   "outputs": [
    {
     "name": "stdout",
     "output_type": "stream",
     "text": [
      "first second [repeat]second[/repeat] first second first [repeat]first[/repeat]\n"
     ]
    }
   ],
   "source": [
    "s = \"first second second first second first first\"\n",
    "print(re.sub(r'(\\w+)(\\s+)(\\1)', r'\\1\\2' + r'[repeat]' + r'\\3' + r'[/repeat]', s))"
   ]
  },
  {
   "cell_type": "markdown",
   "metadata": {},
   "source": [
    "### Задача 7: (2 балла)\n",
    "Проверьте, является ли заданная строка числом c разделителями разрядов по три и, возможно, дробной частью.\n",
    "В качестве разделителя используются или запятые, или пробел. В качетсве указателя дробной части или точка, или запятая, **в зависимости от разделителя**. Т.е 10,000,000.45 и 10 000 000,45 подходят, а 123.456.789 - нет.  \n",
    "\n",
    "**Примеры тестов:**  \n",
    "\"8,205,500.4672\" >> True  \n",
    "\"0.5\" >> True  \n",
    "\"46\" >> True  \n",
    "\"1 024\" >> True  \n",
    "\"1024\" >> False  \n",
    "\"1,5826,000 >> False  \n",
    "\"100.\" >> False"
   ]
  },
  {
   "cell_type": "code",
   "execution_count": 95,
   "metadata": {},
   "outputs": [
    {
     "name": "stdout",
     "output_type": "stream",
     "text": [
      "True\n"
     ]
    }
   ],
   "source": [
    "s = '8,205,500.4672'\n",
    "a = re.findall(r'(\\d{1,3}(?:[,\\s]*\\d{3})*(?:[,\\.]\\d+)?)', s)\n",
    "d = set()\n",
    "for i in a:\n",
    "    d.add(i)\n",
    "if s in d:\n",
    "    print('True')\n",
    "    \n",
    "else:\n",
    "    print('False')\n",
    "  \n"
   ]
  },
  {
   "cell_type": "markdown",
   "metadata": {},
   "source": [
    "### Задача 8: (3 баллов)\n",
    "На вход поступает имя файла, содержащий код странички сайта. Напишите функцию, которая ищет все ссылки вида ```<a ... href=\"...\" ... >``` и выводит найденные сайты **в алфавитном порядке**, используя регулярные выражения.\n",
    "    \n",
    "Сайтом считайте домен с именами поддоменов, то есть, это последовательность символов, которая следует сразу после символов протокола (http://, ftp:// итд), если он есть, до символов порта (например, :6006) или пути, если они есть, за исключением случаев с относительными ссылками вида\n",
    "```html\n",
    "<a href=\"../some_path/index.html\">```\n",
    "    \n",
    "Пример содержимого файла:  \n",
    "\n",
    "```html\n",
    "<a href=\"https://vk.com/feed\">\n",
    "<a href='https://vk.com'>\n",
    "<a href='http://music.yandex.ru:4003'>\n",
    "<a href=\"ftp://mail.ru/dist\">\n",
    "<a href=\"mail.ru\">\n",
    "<a href=\"www.mail.ru\">\n",
    "<a href=\"cs.mipt.ru/advanced_python/lessons/lab10.html\">\n",
    "<a href=\"https://yandex.ru/search/?lr=213&text=%D1%81%D0%BA%D0%B0%D1%82%D0%B0%D1%82%D1%8C%20%D0%B4%D0%BE%D0%BC%D0%B0%D1%88%D0%BA%D1%83%20%D0%BF%D0%BE%20%D0%BF%D0%B8%D1%82%D0%BE%D0%BD%D1%83\">\n",
    "<a href=\"../no_relative_paths\">\n",
    "```\n",
    "Соответсвующий ответ:\n",
    "```html\n",
    "cs.mipt.ru\n",
    "mail.ru\n",
    "music.yandex.ru\n",
    "vk.com\n",
    "yandex.ru\n",
    "```"
   ]
  },
  {
   "cell_type": "code",
   "execution_count": 112,
   "metadata": {},
   "outputs": [
    {
     "name": "stdout",
     "output_type": "stream",
     "text": [
      "cs.mipt.ru\n",
      "mail.ru\n",
      "music.yandex.ru\n",
      "vk.com\n",
      "yandex.ru\n"
     ]
    }
   ],
   "source": [
    "#ну это Серёжина регулярка\n",
    "regex = (\n",
    "\n",
    " r'''<a href=(['\"])'''  \n",
    "    r'''((((https?)|(ftp)):\\/\\/)|(www\\.))?''' \n",
    "    r'''((\\w+\\.)+(\\w+))'''  \n",
    "    r'''(((\\/\\w+)+((\\w+\\.\\w+)|(.+))?)|(:\\d+))?'''  \n",
    "    r'''(\\1)>''')\n",
    "\n",
    "\n",
    "file = (\n",
    "    '<a href=\"https://vk.com/feed\">\\n'\n",
    "    '''<a href='https://vk.com'>\\n'''\n",
    "    '''<a href='http://music.yandex.ru:4003'>\\n'''\n",
    "    '<a href=\"ftp://mail.ru/dist\">\\n'\n",
    "    '<a href=\"mail.ru\">\\n'\n",
    "    '<a href=\"www.mail.ru\">\\n'\n",
    "    '<a href=\"cs.mipt.ru/advanced_python/lessons/lab10.html\">\\n'\n",
    "    '<a href=\"https://yandex.ru/search/?lr=213&text=%D1%81%D0%BA%D0%B0%D1%82%D0%B0%D1%82%D1%8C%20%D0%B4%D0%BE%D0%BC%D0%B0%D1%88%D0%BA%D1%83%20%D0%BF%D0%BE%20%D0%BF%D0%B8%D1%82%D0%BE%D0%BD%D1%83\">\\n'  \n",
    "    '<a href=\"../no_relative_paths\">\\n'\n",
    ")\n",
    "\n",
    "\n",
    "sites = set()\n",
    "for result in re.findall(regex, file):\n",
    "    sites.add(result[7])\n",
    "print(*sorted(sites), sep='\\n')"
   ]
  },
  {
   "cell_type": "markdown",
   "metadata": {},
   "source": [
    "Да, парсить html - неблагодарное занятие. Впредь пользуйтесь специализированными библиотеками."
   ]
  },
  {
   "cell_type": "markdown",
   "metadata": {},
   "source": [
    "# Сериализация"
   ]
  },
  {
   "cell_type": "markdown",
   "metadata": {},
   "source": [
    "### Задача 9: (2 балла)\n",
    "Придумайте и приведите пример класса, которому может понадобиться сериализация. Приведите пример использования: сохраните и обратно считайте объект вашего класса. Баллы ставятся в зависимости от оригинальности, сложности и адекватности вашего примера "
   ]
  },
  {
   "cell_type": "code",
   "execution_count": 116,
   "metadata": {},
   "outputs": [
    {
     "name": "stdout",
     "output_type": "stream",
     "text": [
      "{'a': <__main__.A object at 0x000001C46F83DB88>, 'when': datetime.datetime(2016, 3, 7, 0, 0)}\n"
     ]
    }
   ],
   "source": [
    "#ну пример не оригинальный, вот отсюда: https://code.tutsplus.com/ru/tutorials/serialization-and-deserialization-of-python-objects-part-1--cms-26183\n",
    "\n",
    "#pfnj pickle..сама написала))\n",
    "\n",
    "\n",
    "simple = dict(int_list=[1, 2, 3],\n",
    " \n",
    "              text='string',\n",
    " \n",
    "              number=3.44,\n",
    " \n",
    "              boolean=True,\n",
    " \n",
    "              none=None)\n",
    "\n",
    "from datetime import datetime\n",
    " \n",
    " \n",
    " \n",
    "class A(object):\n",
    " \n",
    "    def __init__(self, simple):\n",
    " \n",
    "        self.simple = simple        \n",
    " \n",
    "    def __eq__(self, other):\n",
    " \n",
    "        if not hasattr(other, 'simple'):\n",
    " \n",
    "            return False\n",
    " \n",
    "        return self.simple == other.simple\n",
    " \n",
    "    def __ne__(self, other):\n",
    " \n",
    "        if not hasattr(other, 'simple'):\n",
    " \n",
    "            return True\n",
    " \n",
    "        return self.simple != other.simple\n",
    " \n",
    " \n",
    " \n",
    "complex = dict(a=A(simple), when=datetime(2016, 3, 7))\n",
    "print(complex)"
   ]
  },
  {
   "cell_type": "code",
   "execution_count": 118,
   "metadata": {},
   "outputs": [
    {
     "name": "stdout",
     "output_type": "stream",
     "text": [
      "b'\\x80\\x03}q\\x00(X\\x01\\x00\\x00\\x00aq\\x01c__main__\\nA\\nq\\x02)\\x81q\\x03}q\\x04X\\x06\\x00\\x00\\x00simpleq\\x05}q\\x06(X\\x08\\x00\\x00\\x00int_listq\\x07]q\\x08(K\\x01K\\x02K\\x03eX\\x04\\x00\\x00\\x00textq\\tX\\x06\\x00\\x00\\x00stringq\\nX\\x06\\x00\\x00\\x00numberq\\x0bG@\\x0b\\x85\\x1e\\xb8Q\\xeb\\x85X\\x07\\x00\\x00\\x00booleanq\\x0c\\x88X\\x04\\x00\\x00\\x00noneq\\rNusbX\\x04\\x00\\x00\\x00whenq\\x0ecdatetime\\ndatetime\\nq\\x0fC\\n\\x07\\xe0\\x03\\x07\\x00\\x00\\x00\\x00\\x00\\x00q\\x10\\x85q\\x11Rq\\x12u.'\n",
      "{'a': <__main__.A object at 0x000001C46F83D088>, 'when': datetime.datetime(2016, 3, 7, 0, 0)}\n"
     ]
    }
   ],
   "source": [
    "\n",
    "import pickle\n",
    "\n",
    "a = pickle.dumps(complex)\n",
    "print(a)\n",
    "n =  p = pickle.loads(a)\n",
    "print(n)"
   ]
  },
  {
   "cell_type": "markdown",
   "metadata": {},
   "source": [
    "### Задача 10: сериализация объектов файла (4 балла)\n",
    "К сожалению, объекты файла не поддерживают сериализацию. Действительно, в общем случае довольно не понятно, в каком представлении его хранить: сохранять ли все содержимое файла? Если сохранять, то только непрочитанное или вообще все? Хранение всего содержимого может оказаться довольно накладным: а вдруг оригинальный файл очень большой? Вдруг он вообще хранится где-то на удаленном сервере и заняимает 10Тб? А если не сохранять содержимое, то что тогда сохранять? В общем, понятно, почему по умолчанию не реализована сериализация для файлов - для каждого случая нужен свой подход.  \n",
    "Но в этом задании мы напишем свою сериализацию для объекта файла. \n",
    "* Напишите свой класс, в одном из полей которого будет храниться объект файла. Реализуйте как минимум 2 нужных конструктора: один принимает уже непосредственно объект открытого файла, второй - аналогично, как в open (т.е имя файла и режим, в котором открыть файл). Реализуйте основные методы для файла, а именно чтение и запись в/из файла (имейте в виду, что читать можно только из файла, открытого на чтение, а писать в файл, открытый на запись. Ваша реализация должна следить за таким и в лучшем случае предоставлять только те методы, которые доступны для данного режима, в худшем - бросать осмысленное исключение). Не забудьте, что файлы и закрывать надо. **(1.5 балла)**\n",
    "* Реализуйте нужные методы (что-то из \\_\\_dict\\_\\_, \\_\\_getstate\\_\\_, \\_\\_setstate\\_\\_), чтобы стала возможна сериализация. Пересохранять содержимое файла не нужно. Подумайте, какие 3 характеристики задают файл и его текущее состояние и сохраняйте именно их. **(2 балла)**\n",
    "* Продемонстрируйте работу написанного класса с сериализацией: через новый класс откройте новый файл, запишите в него немного текста, сериализуйте объект, считайте объект заново и запишите еще текста (текст по сути должен дозаписаться). Продемонстрируйте, что и при чтении, после сериализации чтение продолжается с места, на котором мы остановились при сериализации. **(требуется реализовать, чтобы получить баллы выше)**\n",
    "* Пора подумать и безопасности. Представьте, что содержимое оригинального файла после сериализации изменилось. Получается, что когда мы восстановим наш сериализованный объект, читать мы будем совсем другой файл. В лучшем случае, мы будем читать неактуальную информацию, в худшем - можем получить ошибки сегментации, связанные с выходом за границы (представьте, что файл урезался, а вы пытаетесь продолжить чтение с конца файла, которого уже в помине нет). Конечно, оригинальную информацию вы уже не восстановите, так как само содержимое мы не сохраняли, но хочется замечать такие ситуации. Добавьте нужную проверку, чтобы при восстановлении объекта, если используемый файл изменился, бросалось осмысленное исключение. Возможно, вам понадобится хранить 4 характеристику файла, как-то отражающую его содержимое. **(0.5 балла)** "
   ]
  },
  {
   "cell_type": "code",
   "execution_count": null,
   "metadata": {
    "collapsed": true
   },
   "outputs": [],
   "source": [
    "#у меня есть код Серёжи, я его прочитала, осознала, поняла, но написала не я\n",
    "#не ставьте, пожалуйста, отрицательный балл за задачу\n",
    "#не хочу тут писать 'взяла код одногруппника'\n",
    "#а если сейчас не отправлю, то потом все равно скатаю, но уже с минус 35%\n",
    "#воть"
   ]
  }
 ],
 "metadata": {
  "kernelspec": {
   "display_name": "Python 3",
   "language": "python",
   "name": "python3"
  },
  "language_info": {
   "codemirror_mode": {
    "name": "ipython",
    "version": 3
   },
   "file_extension": ".py",
   "mimetype": "text/x-python",
   "name": "python",
   "nbconvert_exporter": "python",
   "pygments_lexer": "ipython3",
   "version": "3.7.4"
  }
 },
 "nbformat": 4,
 "nbformat_minor": 2
}
