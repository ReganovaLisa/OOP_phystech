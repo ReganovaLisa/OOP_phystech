{
 "cells": [
  {
   "cell_type": "markdown",
   "metadata": {},
   "source": [
    "# Домашняя работа №8.2 (Курс \"Advanced Python\")\n",
    "## ФИО: Реганова Елизавета Владиславовна"
   ]
  },
  {
   "cell_type": "markdown",
   "metadata": {},
   "source": [
    "**Тема:** Корутины  \n",
    "**Выдана:** 27 октября  \n",
    "**Мягкий дедлайн:** 4 ноября  \n",
    "**Жесткий дедлайн:** 11 ноября  "
   ]
  },
  {
   "cell_type": "markdown",
   "metadata": {},
   "source": [
    "**Правила:**\n",
    "Результат выполнения задания - отчет в формате Jupyter Notebook с кодом и выводами. В ходе выполнения задания требуется реализовать все необходимые алгоритмы, провести эксперименты и ответить на поставленные вопросы. Дополнительные выводы приветствуются. Чем меньше кода и больше комментариев - тем лучше.\n",
    "\n",
    "Все ячейки должны быть \"выполненными\", при этом результат должен воспроизвдиться при проверке.\n",
    "\n",
    "Задание выполняется самостоятельно. **Если вы нашли в Интернете какой-то код, который собираетесь заимствовать, обязательно укажите это в задании.** Если вы советовались с товарищем и/или позаимствовали его решение, обязательно укажите об этом в отчете. Нет ничего плохого в том, что вы пытаетесь разобраться и помогаете друг другу; плохо - когда вы скрываете это и выдаете чужие заслуги за свои. При обнаружении списывания ВСЕМ студентам, имеющим одинаковые списанные решения будет выставлен ОТРИЦАТЕЛЬНЫЙ балл (т.е если задача стоит 4 балла, вы получите не 0, а -4), \"оригинал\" искаться не будет\n",
    "\n",
    "Задание, сданное после жесткого дедлайна, не принимается."
   ]
  },
  {
   "cell_type": "markdown",
   "metadata": {},
   "source": [
    "### Задача 1: Substringer (2 балла)\n",
    "Напишите корутину findSubString(substring), которая по сигналу GetValues возвращает все содержащие подстроку substring строки, которые передавались в корутину и еще не были выданы по GetValues. Также реализуйте возможность завершения работы с корутиной после передачи сигнала StopIteration. Продемонстируйте ее работу  \n",
    "**Ожидаемое поведение**\n",
    "```python\n",
    "substringer = findSubString(\"aaa\")\n",
    "next(substringer)\n",
    "substringer.send(\"Alohaaa\")\n",
    "substringer.send(\"bbbb\")\n",
    "substringer.send(\"Jupyter\")\n",
    "substringer.send(\"ananas\")\n",
    "substringer.throw(GetValues()) # -> [\"Alohaaa\"]\n",
    "substringer.throw(GetValues()) # -> []\n",
    "substringer.send(\"anaaas\")\n",
    "substringer.throw(GetValues()) # -> [\"anaaas\"]\n",
    "substringer.throw(StopIteration())\n",
    "```"
   ]
  },
  {
   "cell_type": "code",
   "execution_count": 3,
   "metadata": {},
   "outputs": [],
   "source": [
    "#авторство Никиты Шатилова\n",
    "\n",
    "class GetValues(Exception):\n",
    "    pass\n",
    "\n",
    "def findSubString(substring):\n",
    "    s = []\n",
    "    while True:\n",
    "        try:\n",
    "            i = yield\n",
    "            \n",
    "            if substring in i:\n",
    "                s.append(i)\n",
    "                \n",
    "        except GetValues:\n",
    "            print(s)\n",
    "            s = []\n",
    "            \n",
    "        except StopIteration:\n",
    "            return\n",
    "        \n",
    "        except:\n",
    "            raise ValueError"
   ]
  },
  {
   "cell_type": "code",
   "execution_count": 4,
   "metadata": {},
   "outputs": [
    {
     "name": "stdout",
     "output_type": "stream",
     "text": [
      "['Alohaaa']\n",
      "[]\n",
      "['anaaas']\n"
     ]
    },
    {
     "ename": "StopIteration",
     "evalue": "",
     "output_type": "error",
     "traceback": [
      "\u001b[1;31m---------------------------------------------------------------------------\u001b[0m",
      "\u001b[1;31mStopIteration\u001b[0m                             Traceback (most recent call last)",
      "\u001b[1;32m<ipython-input-4-d190a0863f87>\u001b[0m in \u001b[0;36m<module>\u001b[1;34m\u001b[0m\n\u001b[0;32m      9\u001b[0m \u001b[0msubstringer\u001b[0m\u001b[1;33m.\u001b[0m\u001b[0msend\u001b[0m\u001b[1;33m(\u001b[0m\u001b[1;34m\"anaaas\"\u001b[0m\u001b[1;33m)\u001b[0m\u001b[1;33m\u001b[0m\u001b[1;33m\u001b[0m\u001b[0m\n\u001b[0;32m     10\u001b[0m \u001b[0msubstringer\u001b[0m\u001b[1;33m.\u001b[0m\u001b[0mthrow\u001b[0m\u001b[1;33m(\u001b[0m\u001b[0mGetValues\u001b[0m\u001b[1;33m(\u001b[0m\u001b[1;33m)\u001b[0m\u001b[1;33m)\u001b[0m \u001b[1;31m# -> [\"anaaas\"]\u001b[0m\u001b[1;33m\u001b[0m\u001b[1;33m\u001b[0m\u001b[0m\n\u001b[1;32m---> 11\u001b[1;33m \u001b[0msubstringer\u001b[0m\u001b[1;33m.\u001b[0m\u001b[0mthrow\u001b[0m\u001b[1;33m(\u001b[0m\u001b[0mStopIteration\u001b[0m\u001b[1;33m(\u001b[0m\u001b[1;33m)\u001b[0m\u001b[1;33m)\u001b[0m\u001b[1;33m\u001b[0m\u001b[1;33m\u001b[0m\u001b[0m\n\u001b[0m",
      "\u001b[1;31mStopIteration\u001b[0m: "
     ]
    }
   ],
   "source": [
    "substringer = findSubString(\"aaa\")\n",
    "substringer.send(None)\n",
    "substringer.send(\"Alohaaa\")\n",
    "substringer.send(\"bbbb\")\n",
    "substringer.send(\"Jupyter\")\n",
    "substringer.send(\"ananas\")\n",
    "substringer.throw(GetValues()) # -> [\"Alohaaa\"]\n",
    "substringer.throw(GetValues()) # -> []\n",
    "substringer.send(\"anaaas\")\n",
    "substringer.throw(GetValues()) # -> [\"anaaas\"]\n",
    "substringer.throw(StopIteration())"
   ]
  },
  {
   "cell_type": "code",
   "execution_count": null,
   "metadata": {},
   "outputs": [],
   "source": []
  }
 ],
 "metadata": {
  "kernelspec": {
   "display_name": "Python 3",
   "language": "python",
   "name": "python3"
  },
  "language_info": {
   "codemirror_mode": {
    "name": "ipython",
    "version": 3
   },
   "file_extension": ".py",
   "mimetype": "text/x-python",
   "name": "python",
   "nbconvert_exporter": "python",
   "pygments_lexer": "ipython3",
   "version": "3.7.4"
  }
 },
 "nbformat": 4,
 "nbformat_minor": 2
}
