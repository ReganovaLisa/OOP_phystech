{
 "cells": [
  {
   "cell_type": "markdown",
   "metadata": {},
   "source": [
    "# Домашняя работа №2 (Курс \"Advanced Python\")\n",
    "## ФИО:"
   ]
  },
  {
   "cell_type": "markdown",
   "metadata": {},
   "source": [
    "**Тема:** Github, lambdas, collections  \n",
    "**Выдана:** 8 сентября  \n",
    "**Мягкий дедлайн:** 15 сентября   \n",
    "**Жесткий дедлайн:** 22 сентября   "
   ]
  },
  {
   "cell_type": "markdown",
   "metadata": {},
   "source": [
    "**Правила:**\n",
    "Результат выполнения задания - отчет в формате Jupyter Notebook с кодом и выводами. В ходе выполнения задания требуется реализовать все необходимые алгоритмы, провести эксперименты и ответить на поставленные вопросы. Дополнительные выводы приветствуются. Чем меньше кода и больше комментариев - тем лучше.\n",
    "\n",
    "Все ячейки должны быть \"выполненными\", при этом результат должен воспроизвдиться при проверке.\n",
    "\n",
    "Задание выполняется самостоятельно. **Если вы нашли в Интернете какой-то код, который собираетесь заимствовать, обязательно укажите это в задании.** Если вы советовались с товарищем и/или позаимствовали его решение, обязательно укажите об этом в отчете. Нет ничего плохого в том, что вы пытаетесь разобраться и помогаете друг другу; плохо - когда вы скрываете это и выдаете чужие заслуги за свои. При обнаружении списывания ВСЕМ студентам, имеющим одинаковые списанные решения будет выставлен ОТРИЦАТЕЛЬНЫЙ балл (т.е если задача стоит 4 балла, вы получите не 0, а -4), \"оригинал\" искаться не будет\n",
    "\n",
    "Задание, сданное после жесткого дедлайна, не принимается."
   ]
  },
  {
   "cell_type": "markdown",
   "metadata": {},
   "source": [
    "### Задание 0:\n",
    "Внимательно прочитайте материалы с http://cs.mipt.ru/advanced_python/lessons/lab2.html, которые я не стал рассказывать на семинаре. Задания в конце страницы выполнять не нужно"
   ]
  },
  {
   "cell_type": "markdown",
   "metadata": {},
   "source": [
    "### Задание 1: создание своего профиля на Github (3 балла)\n",
    "Создайте свой профиль на github.  \n",
    "Склонируйте репозиторий https://github.com/EbookFoundation/free-programming-books в свой репозиторий под именем Clonned  \n",
    "Создайте свой репозиторий под любым названием.   \n",
    "В новую ветку в свой репозиторий загрузите текстовый файл вида \"Your_last_name.txt\", в котором записано ваше имя (например, файл \"Plyusnin.txt\" с содержимым \"Павел\")  \n",
    "Следующим коммитом добавьте в файл фамилию до имени (теперь содержимое \"Плюснин Павел\")  \n",
    "Найдите, где в интерфейсе гитхаба можно просмотреть историю коммитов. Посмотрите на ваши изменения, сравните две версии файла: до правки с фамилией и после нее"
   ]
  },
  {
   "cell_type": "code",
   "execution_count": 1,
   "metadata": {},
   "outputs": [],
   "source": [
    "### укажите ссылку на ваш репозиторий и на склоннированный Clonned"
   ]
  },
  {
   "cell_type": "markdown",
   "metadata": {},
   "source": [
    "https://github.com/ReganovaLisa/Clonned\n",
    "\n",
    "https://github.com/ReganovaLisa/RLiza"
   ]
  },
  {
   "cell_type": "markdown",
   "metadata": {
    "collapsed": true
   },
   "source": [
    "### Задание 2: (1 балл)\n",
    "Пользуясь только функцией sorted, в одну строку, найдите 5 ключей с самыми высокими значениями в словаре dictionary:"
   ]
  },
  {
   "cell_type": "code",
   "execution_count": 32,
   "metadata": {},
   "outputs": [
    {
     "name": "stdout",
     "output_type": "stream",
     "text": [
      "577\n",
      "888\n",
      "261\n",
      "581\n",
      "189\n"
     ]
    }
   ],
   "source": [
    "import numpy as np\n",
    "dictionary = {x: np.random.randn() for x in range(1000)}\n",
    "#print(dictionary)\n",
    "\n",
    "for w in sorted(dictionary.items(), key=lambda kv: kv[1])[:5]:\n",
    "    print(w[0])\n",
    "\n",
    "#ну нашла в одну ведь,одна на вывод :)"
   ]
  },
  {
   "cell_type": "markdown",
   "metadata": {},
   "source": [
    "### Задание 3: (1 балл)\n",
    "Используя zip, напишите функцию print_pascal(n), которая выводит первые n строк треугольника Паскаля.  \n",
    "**Подсказка:** Треугольник Паскаля выглядит следующим образом: его первая строка состоит только из единицы. N-ая строка по размерности на 2 большей N-1 строки. Каждый элемент N строки получается из суммы двух соответствующих элементов над ним (для двух крайних чисел можно считать, что N-1 строка на самом деле имеет ту же размерность, что и N, просто самым левым и самым правым элементом являются 0)"
   ]
  },
  {
   "cell_type": "code",
   "execution_count": 3,
   "metadata": {},
   "outputs": [
    {
     "name": "stdout",
     "output_type": "stream",
     "text": [
      "[1]\n",
      "[1, 1]\n",
      "[1, 2, 1]\n",
      "[1, 3, 3, 1]\n",
      "[1, 4, 6, 4, 1]\n",
      "[1, 5, 10, 10, 5, 1]\n"
     ]
    }
   ],
   "source": [
    "def print_pascal(n):\n",
    "    row1 = [1]\n",
    "    row2 = [1,1]\n",
    "    row = 1\n",
    "    for x in range(max(n, 0)):\n",
    "        print(row1)\n",
    "        row1, row2 = row2, [1] + [sum(pair) for pair in zip(row2, row2[1:]) ] + [1] # это с какого-то сайта, я уже ссылку не могу найти\n",
    "    return\n",
    "\n",
    "print_pascal(6) \n",
    "\n"
   ]
  },
  {
   "cell_type": "markdown",
   "metadata": {},
   "source": [
    "### Задание 4: (1 балл)\n",
    "Напишите в одну строчку функцию, которая складывает цифры натурального числа"
   ]
  },
  {
   "cell_type": "code",
   "execution_count": 5,
   "metadata": {},
   "outputs": [
    {
     "name": "stdout",
     "output_type": "stream",
     "text": [
      "9\n"
     ]
    }
   ],
   "source": [
    "def sum_digits(n):\n",
    "    return sum(map(int, str(n)))\n",
    "print(sum_digits(54))"
   ]
  },
  {
   "cell_type": "markdown",
   "metadata": {},
   "source": [
    "### Задание 5: (1 балл)\n",
    "Напишите функцию, которая принимает текст и выводит два числа: самое длинное слово, и наиболее часто встречающееся. \n",
    "Вспомните, что мы проходили на семинаре ;)"
   ]
  },
  {
   "cell_type": "code",
   "execution_count": 15,
   "metadata": {},
   "outputs": [],
   "source": [
    "def func(s):\n",
    "    l = len(s)\n",
    "    m = 0\n",
    "    ind = 0\n",
    "    count = 0\n",
    "    slovo = ''\n",
    "    d = {}\n",
    "    for i in range(l):\n",
    "        if s[i] != ' ':\n",
    "            count += 1\n",
    "            slovo += s[i]\n",
    "        else:\n",
    "            if count > m:\n",
    "                m = count\n",
    "                ind = i - count\n",
    "            count = 0\n",
    "            if slovo in d:\n",
    "                d[slovo] +=1\n",
    "            else:\n",
    "                d[slovo]= 0\n",
    "            slovo = ''    \n",
    "                \n",
    " \n",
    "    if count > m:\n",
    "        m = count\n",
    "        ind = i - count + 1\n",
    "    g = max(d.items(), key=lambda i: i[1])[0]    \n",
    "        \n",
    "    \n",
    "   \n",
    " \n",
    "    return(s[ind:ind+m], g)\n"
   ]
  },
  {
   "cell_type": "markdown",
   "metadata": {},
   "source": [
    "### Задание 6: функция возвращает функции! (2 балла)\n",
    "\n",
    "Реализуйте функцию checker_mod(x, mod=0), возвращающую лямбда функцию от одного аргумента y, которая будет возвращать True, если остаток от деления y на x равен mod, и False иначе.\n",
    "\n",
    "Пример использования:\n",
    "```python3\n",
    "mod_2 = checker_mod(2)\n",
    "\n",
    "print(mod_2(3)) # False\n",
    "print(mod_2(4)) # True\n",
    "\n",
    "mod_2_1 = checker_mod(2, 1)\n",
    "print(mod_2_1(3)) # True\n",
    "```"
   ]
  },
  {
   "cell_type": "code",
   "execution_count": null,
   "metadata": {
    "collapsed": true
   },
   "outputs": [],
   "source": [
    "def checker_mod(x, mod=0):\n",
    "    return lambda y: y%x == mod # ну советоваться я бы это не назвала, мне Никита помог, код вот кинул, а я вот из-за этого дедлайн и просрочила, сдаюсь\n",
    "    \n"
   ]
  }
 ],
 "metadata": {
  "kernelspec": {
   "display_name": "Python 3",
   "language": "python",
   "name": "python3"
  },
  "language_info": {
   "codemirror_mode": {
    "name": "ipython",
    "version": 3
   },
   "file_extension": ".py",
   "mimetype": "text/x-python",
   "name": "python",
   "nbconvert_exporter": "python",
   "pygments_lexer": "ipython3",
   "version": "3.7.4"
  }
 },
 "nbformat": 4,
 "nbformat_minor": 2
}
